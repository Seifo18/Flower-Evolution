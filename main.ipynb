{
 "cells": [
  {
   "cell_type": "markdown",
   "id": "2b6cf87e",
   "metadata": {},
   "source": [
    "# Imports\n"
   ]
  },
  {
   "cell_type": "code",
   "execution_count": 27,
   "id": "c0080614",
   "metadata": {},
   "outputs": [],
   "source": [
    "import random\n",
    "import gradio as gr\n"
   ]
  },
  {
   "cell_type": "markdown",
   "id": "65e968a5",
   "metadata": {},
   "source": [
    "# Flower\n",
    "\n"
   ]
  },
  {
   "cell_type": "code",
   "execution_count": 12,
   "id": "f07a0efc",
   "metadata": {},
   "outputs": [
    {
     "name": "stdout",
     "output_type": "stream",
     "text": [
      "------------- Flower Details: -------------\n",
      "Center Size: 173\n",
      "Center Color: (49, 201, 97)\n",
      "Petals Color: (93, 41, 211)\n",
      "Stem Color: (247, 107, 166)\n",
      "Number of Petals: 187\n",
      "------------- Flower Details: -------------\n",
      "Center Size: 191\n",
      "Center Color: (8, 1, 129)\n",
      "Petals Color: (220, 162, 24)\n",
      "Stem Color: (47, 1, 142)\n",
      "Number of Petals: 123\n",
      "------------- Flower Details: -------------\n",
      "Center Size: 73\n",
      "Center Color: (109, 96, 31)\n",
      "Petals Color: (78, 204, 189)\n",
      "Stem Color: (31, 140, 85)\n",
      "Number of Petals: 255\n",
      "------------- Flower Details: -------------\n",
      "Center Size: 170\n",
      "Center Color: (221, 182, 223)\n",
      "Petals Color: (225, 13, 207)\n",
      "Stem Color: (60, 21, 118)\n",
      "Number of Petals: 0\n",
      "------------- Flower Details: -------------\n",
      "Center Size: 224\n",
      "Center Color: (73, 216, 4)\n",
      "Petals Color: (62, 210, 196)\n",
      "Stem Color: (203, 207, 3)\n",
      "Number of Petals: 50\n",
      "------------- Flower Details: -------------\n",
      "Center Size: 21\n",
      "Center Color: (91, 3, 181)\n",
      "Petals Color: (209, 93, 250)\n",
      "Stem Color: (17, 109, 180)\n",
      "Number of Petals: 138\n",
      "------------- Flower Details: -------------\n",
      "Center Size: 2\n",
      "Center Color: (26, 76, 162)\n",
      "Petals Color: (146, 171, 247)\n",
      "Stem Color: (112, 184, 100)\n",
      "Number of Petals: 104\n",
      "------------- Flower Details: -------------\n",
      "Center Size: 185\n",
      "Center Color: (178, 85, 161)\n",
      "Petals Color: (195, 197, 96)\n",
      "Stem Color: (18, 46, 50)\n",
      "Number of Petals: 227\n"
     ]
    }
   ],
   "source": [
    "class Flower:\n",
    "    def __init__(self, sizeCenter , colorCenter , colorPetals , colorStem , numPetals): \n",
    "        self.sizeCenter = sizeCenter\n",
    "        self.colorCenter = colorCenter\n",
    "        self.colorPetals = colorPetals\n",
    "        self.colorStem = colorStem\n",
    "        self.numPetals = numPetals\n",
    "        \n",
    "    def display(self):\n",
    "        print(f\"------------- Flower Details: -------------\")\n",
    "        print(f\"Center Size: {self.sizeCenter}\")\n",
    "        print(f\"Center Color: {self.colorCenter}\")\n",
    "        print(f\"Petals Color: {self.colorPetals}\")\n",
    "        print(f\"Stem Color: {self.colorStem}\")\n",
    "        print(f\"Number of Petals: {self.numPetals}\")\n",
    "\n",
    "population = createPopulation()\n",
    "population[0].display()\n",
    "population[1].display()\n",
    "population[2].display()\n",
    "population[3].display()\n",
    "population[4].display()\n",
    "population[5].display()\n",
    "population[6].display()\n",
    "population[7].display()"
   ]
  },
  {
   "cell_type": "markdown",
   "id": "82dd3d20",
   "metadata": {},
   "source": [
    "# Population\n"
   ]
  },
  {
   "cell_type": "code",
   "execution_count": null,
   "id": "7628904f",
   "metadata": {},
   "outputs": [],
   "source": [
    "# Assume sizeCenter is 8 bits \n",
    "# Assume numPetals is 8 bits\n",
    "# we may change the colorCenter, colorPetals, colorStem to be 24 bits each (8 bits for R, 8 bits for G, 8 bits for B)\n",
    "\n",
    "def createPopulation():\n",
    "    population = []  \n",
    "    for i in range(8):\n",
    "        sizeCenter = random.randint(0, 255)\n",
    "        colorCenter = (random.randint(0, 255), random.randint(0, 255), random.randint(0, 255))\n",
    "        colorPetals = (random.randint(0, 255), random.randint(0, 255), random.randint(0, 255))\n",
    "        colorStem = (random.randint(0, 255), random.randint(0, 255), random.randint(0, 255))\n",
    "        numPetals = random.randint(0, 255)\n",
    "        flower = Flower(sizeCenter, colorCenter, colorPetals, colorStem, numPetals)\n",
    "        population.append(flower)\n",
    "    return population\n"
   ]
  },
  {
   "cell_type": "code",
   "execution_count": 13,
   "id": "a17030d1",
   "metadata": {},
   "outputs": [],
   "source": [
    "def convertDecimalToBinary(n):\n",
    "    return bin(n).replace(\"0b\", \"\").zfill(8)\n"
   ]
  },
  {
   "cell_type": "code",
   "execution_count": 14,
   "id": "edbe7939",
   "metadata": {},
   "outputs": [
    {
     "name": "stdout",
     "output_type": "stream",
     "text": [
      "Flower 1:\n",
      "Chromosome: 1010110100110001110010010110000101011101001010011101001111110111011010111010011010111011\n",
      "\n",
      "Flower 2:\n",
      "Chromosome: 1011111100001000000000011000000111011100101000100001100000101111000000011000111001111011\n",
      "\n",
      "Flower 3:\n",
      "Chromosome: 0100100101101101011000000001111101001110110011001011110100011111100011000101010111111111\n",
      "\n",
      "Flower 4:\n",
      "Chromosome: 1010101011011101101101101101111111100001000011011100111100111100000101010111011000000000\n",
      "\n",
      "Flower 5:\n",
      "Chromosome: 1110000001001001110110000000010000111110110100101100010011001011110011110000001100110010\n",
      "\n",
      "Flower 6:\n",
      "Chromosome: 0001010101011011000000111011010111010001010111011111101000010001011011011011010010001010\n",
      "\n",
      "Flower 7:\n",
      "Chromosome: 0000001000011010010011001010001010010010101010111111011101110000101110000110010001101000\n",
      "\n",
      "Flower 8:\n",
      "Chromosome: 1011100110110010010101011010000111000011110001010110000000010010001011100011001011100011\n",
      "\n"
     ]
    }
   ],
   "source": [
    "def displayBinaryRepresentation(flower):\n",
    "    sizeCenterBinary = convertDecimalToBinary(flower.sizeCenter)\n",
    "    colorCenterBinary = ''.join([convertDecimalToBinary(c) for c in flower.colorCenter])\n",
    "    colorPetalsBinary = ''.join([convertDecimalToBinary(c) for c in flower.colorPetals])\n",
    "    colorStemBinary = ''.join([convertDecimalToBinary(c) for c in flower.colorStem])\n",
    "    numPetalsBinary = convertDecimalToBinary(flower.numPetals)\n",
    "    \n",
    "    chromosome = sizeCenterBinary + colorCenterBinary + colorPetalsBinary + colorStemBinary + numPetalsBinary\n",
    "    print(f\"Chromosome: {chromosome}\")\n",
    "\n",
    "def displayAllChromosomes(population):\n",
    "    for i, flower in enumerate(population):\n",
    "        print(f\"Flower {i+1}:\")\n",
    "        displayBinaryRepresentation(flower)\n",
    "        print()\n",
    "\n",
    "displayAllChromosomes(population)"
   ]
  },
  {
   "cell_type": "code",
   "execution_count": 16,
   "id": "3b2fb366",
   "metadata": {},
   "outputs": [],
   "source": [
    "def convertBinaryToDecimal(chromosome):\n",
    "    decimal = 0\n",
    "    for i in range(len(chromosome)):\n",
    "        decimal += int(chromosome[i]) * (2 ** (len(chromosome) - 1 - i))\n",
    "    return decimal\n",
    "   "
   ]
  },
  {
   "cell_type": "code",
   "execution_count": 23,
   "id": "90eda17e",
   "metadata": {},
   "outputs": [
    {
     "name": "stdout",
     "output_type": "stream",
     "text": [
      "49\n"
     ]
    }
   ],
   "source": [
    "print(convertBinaryToDecimal(\"00110001\"))"
   ]
  },
  {
   "cell_type": "code",
   "execution_count": null,
   "id": "8b942b26",
   "metadata": {},
   "outputs": [],
   "source": [
    "# Create population  \n",
    "# Create Flower \n",
    "# Selection \n",
    "# Crossover\n",
    "# Mutation\n",
    "# Fitness Function\n",
    "# Main \n",
    "# GUI "
   ]
  },
  {
   "cell_type": "markdown",
   "id": "d898bcbd",
   "metadata": {},
   "source": [
    "# GUI"
   ]
  },
  {
   "cell_type": "code",
   "execution_count": 28,
   "id": "2c306a1f",
   "metadata": {},
   "outputs": [
    {
     "name": "stdout",
     "output_type": "stream",
     "text": [
      "* Running on local URL:  http://127.0.0.1:7860\n",
      "* To create a public link, set `share=True` in `launch()`.\n"
     ]
    },
    {
     "data": {
      "text/html": [
       "<div><iframe src=\"http://127.0.0.1:7860/\" width=\"100%\" height=\"500\" allow=\"autoplay; camera; microphone; clipboard-read; clipboard-write;\" frameborder=\"0\" allowfullscreen></iframe></div>"
      ],
      "text/plain": [
       "<IPython.core.display.HTML object>"
      ]
     },
     "metadata": {},
     "output_type": "display_data"
    },
    {
     "data": {
      "text/plain": []
     },
     "execution_count": 28,
     "metadata": {},
     "output_type": "execute_result"
    },
    {
     "name": "stdout",
     "output_type": "stream",
     "text": [
      "Created dataset file at: .gradio\\flagged\\dataset1.csv\n"
     ]
    }
   ],
   "source": [
    "def greet(name):\n",
    "    return f\"Hello {name}!\"\n",
    "\n",
    "app = gr.Interface(fn=greet, inputs=\"text\", outputs=\"text\")\n",
    "app.launch()\n"
   ]
  }
 ],
 "metadata": {
  "kernelspec": {
   "display_name": "Python 3",
   "language": "python",
   "name": "python3"
  },
  "language_info": {
   "codemirror_mode": {
    "name": "ipython",
    "version": 3
   },
   "file_extension": ".py",
   "mimetype": "text/x-python",
   "name": "python",
   "nbconvert_exporter": "python",
   "pygments_lexer": "ipython3",
   "version": "3.11.9"
  }
 },
 "nbformat": 4,
 "nbformat_minor": 5
}
