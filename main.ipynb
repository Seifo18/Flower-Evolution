{
 "cells": [
  {
   "cell_type": "markdown",
   "id": "2b6cf87e",
   "metadata": {},
   "source": [
    "# Imports\n"
   ]
  },
  {
   "cell_type": "code",
   "execution_count": 27,
   "id": "c0080614",
   "metadata": {},
   "outputs": [],
   "source": [
    "import random\n",
    "import gradio as gr\n"
   ]
  },
  {
   "cell_type": "markdown",
   "id": "65e968a5",
   "metadata": {},
   "source": [
    "# Flower\n",
    "\n"
   ]
  },
  {
   "cell_type": "code",
   "execution_count": 40,
   "id": "f07a0efc",
   "metadata": {},
   "outputs": [],
   "source": [
    "class Flower:\n",
    "    def __init__(self, sizeCenter , colorCenter , colorPetals , colorStem , numPetals): \n",
    "        self.sizeCenter = sizeCenter\n",
    "        self.colorCenter = colorCenter\n",
    "        self.colorPetals = colorPetals\n",
    "        self.colorStem = colorStem\n",
    "        self.numPetals = numPetals\n",
    "        \n",
    "    def display(self):\n",
    "        print(f\"------------- Flower Details: -------------\")\n",
    "        print(f\"Center Size: {self.sizeCenter}\")\n",
    "        print(f\"Center Color: {self.colorCenter}\")\n",
    "        print(f\"Petals Color: {self.colorPetals}\")\n",
    "        print(f\"Stem Color: {self.colorStem}\")\n",
    "        print(f\"Number of Petals: {self.numPetals}\")\n",
    "\n"
   ]
  },
  {
   "cell_type": "markdown",
   "id": "82dd3d20",
   "metadata": {},
   "source": [
    "# Population\n"
   ]
  },
  {
   "cell_type": "code",
   "execution_count": 42,
   "id": "7628904f",
   "metadata": {},
   "outputs": [
    {
     "name": "stdout",
     "output_type": "stream",
     "text": [
      "------------- Flower Details: -------------\n",
      "Center Size: 155\n",
      "Center Color: (38, 167, 54)\n",
      "Petals Color: (48, 16, 45)\n",
      "Stem Color: (21, 51, 98)\n",
      "Number of Petals: 7\n",
      "------------- Flower Details: -------------\n",
      "Center Size: 109\n",
      "Center Color: (66, 35, 224)\n",
      "Petals Color: (255, 241, 119)\n",
      "Stem Color: (172, 199, 177)\n",
      "Number of Petals: 7\n",
      "------------- Flower Details: -------------\n",
      "Center Size: 174\n",
      "Center Color: (159, 115, 118)\n",
      "Petals Color: (14, 45, 22)\n",
      "Stem Color: (189, 96, 183)\n",
      "Number of Petals: 3\n",
      "------------- Flower Details: -------------\n",
      "Center Size: 58\n",
      "Center Color: (125, 237, 243)\n",
      "Petals Color: (155, 50, 221)\n",
      "Stem Color: (138, 210, 81)\n",
      "Number of Petals: 6\n",
      "------------- Flower Details: -------------\n",
      "Center Size: 208\n",
      "Center Color: (228, 38, 207)\n",
      "Petals Color: (162, 146, 204)\n",
      "Stem Color: (15, 78, 45)\n",
      "Number of Petals: 1\n",
      "------------- Flower Details: -------------\n",
      "Center Size: 48\n",
      "Center Color: (59, 145, 135)\n",
      "Petals Color: (205, 209, 55)\n",
      "Stem Color: (140, 25, 55)\n",
      "Number of Petals: 5\n",
      "------------- Flower Details: -------------\n",
      "Center Size: 151\n",
      "Center Color: (229, 78, 60)\n",
      "Petals Color: (80, 112, 182)\n",
      "Stem Color: (214, 240, 218)\n",
      "Number of Petals: 5\n",
      "------------- Flower Details: -------------\n",
      "Center Size: 205\n",
      "Center Color: (176, 254, 16)\n",
      "Petals Color: (62, 226, 92)\n",
      "Stem Color: (21, 14, 14)\n",
      "Number of Petals: 4\n"
     ]
    }
   ],
   "source": [
    "# Assume sizeCenter is 8 bits \n",
    "# Assume numPetals is 8 bits\n",
    "# we may change the colorCenter, colorPetals, colorStem to be 24 bits each (8 bits for R, 8 bits for G, 8 bits for B)\n",
    "\n",
    "def createPopulation():\n",
    "    population = []  \n",
    "    for i in range(8):\n",
    "        sizeCenter = random.randint(0, 255)\n",
    "        colorCenter = (random.randint(0, 255), random.randint(0, 255), random.randint(0, 255))\n",
    "        colorPetals = (random.randint(0, 255), random.randint(0, 255), random.randint(0, 255))\n",
    "        colorStem = (random.randint(0, 255), random.randint(0, 255), random.randint(0, 255))\n",
    "        numPetals = random.randint(0, 7)\n",
    "        flower = Flower(sizeCenter, colorCenter, colorPetals, colorStem, numPetals)\n",
    "        population.append(flower)\n",
    "    return population\n",
    "\n",
    "population = createPopulation()\n",
    "population[0].display()\n",
    "population[1].display()\n",
    "population[2].display()\n",
    "population[3].display()\n",
    "population[4].display()\n",
    "population[5].display()\n",
    "population[6].display()\n",
    "population[7].display()"
   ]
  },
  {
   "cell_type": "code",
   "execution_count": 43,
   "id": "a17030d1",
   "metadata": {},
   "outputs": [
    {
     "name": "stdout",
     "output_type": "stream",
     "text": [
      "00000111\n"
     ]
    }
   ],
   "source": [
    "def convertDecimalToBinary(n):\n",
    "    return bin(n).replace(\"0b\", \"\").zfill(8)\n",
    "\n",
    "def convertDecimalToBinary3(n):\n",
    "    return bin(n).replace(\"0b\", \"\").zfill(3)\n",
    "\n",
    "print(convertDecimalToBinary(7))\n"
   ]
  },
  {
   "cell_type": "code",
   "execution_count": 44,
   "id": "edbe7939",
   "metadata": {},
   "outputs": [
    {
     "name": "stdout",
     "output_type": "stream",
     "text": [
      "Flower 1:\n",
      "Chromosome: 10011011001001101010011100110110001100000001000000101101000101010011001101100010111\n",
      "\n",
      "Flower 2:\n",
      "Chromosome: 01101101010000100010001111100000111111111111000101110111101011001100011110110001111\n",
      "\n",
      "Flower 3:\n",
      "Chromosome: 10101110100111110111001101110110000011100010110100010110101111010110000010110111011\n",
      "\n",
      "Flower 4:\n",
      "Chromosome: 00111010011111011110110111110011100110110011001011011101100010101101001001010001110\n",
      "\n",
      "Flower 5:\n",
      "Chromosome: 11010000111001000010011011001111101000101001001011001100000011110100111000101101001\n",
      "\n",
      "Flower 6:\n",
      "Chromosome: 00110000001110111001000110000111110011011101000100110111100011000001100100110111101\n",
      "\n",
      "Flower 7:\n",
      "Chromosome: 10010111111001010100111000111100010100000111000010110110110101101111000011011010101\n",
      "\n",
      "Flower 8:\n",
      "Chromosome: 11001101101100001111111000010000001111101110001001011100000101010000111000001110100\n",
      "\n"
     ]
    }
   ],
   "source": [
    "def displayBinaryRepresentation(flower):\n",
    "    sizeCenterBinary = convertDecimalToBinary(flower.sizeCenter)\n",
    "    colorCenterBinary = ''.join([convertDecimalToBinary(c) for c in flower.colorCenter])\n",
    "    colorPetalsBinary = ''.join([convertDecimalToBinary(c) for c in flower.colorPetals])\n",
    "    colorStemBinary = ''.join([convertDecimalToBinary(c) for c in flower.colorStem])\n",
    "    numPetalsBinary = convertDecimalToBinary3(flower.numPetals)\n",
    "    \n",
    "    chromosome = sizeCenterBinary + colorCenterBinary + colorPetalsBinary + colorStemBinary + numPetalsBinary\n",
    "    print(f\"Chromosome: {chromosome}\")\n",
    "\n",
    "def displayAllChromosomes(population):\n",
    "    for i, flower in enumerate(population):\n",
    "        print(f\"Flower {i+1}:\")\n",
    "        displayBinaryRepresentation(flower)\n",
    "        print()\n",
    "\n",
    "displayAllChromosomes(population)"
   ]
  },
  {
   "cell_type": "code",
   "execution_count": 45,
   "id": "3b2fb366",
   "metadata": {},
   "outputs": [],
   "source": [
    "def convertBinaryToDecimal(chromosome):\n",
    "    decimal = 0\n",
    "    for i in range(len(chromosome)):\n",
    "        decimal += int(chromosome[i]) * (2 ** (len(chromosome) - 1 - i))\n",
    "    return decimal\n",
    "   "
   ]
  },
  {
   "cell_type": "code",
   "execution_count": 46,
   "id": "90eda17e",
   "metadata": {},
   "outputs": [
    {
     "name": "stdout",
     "output_type": "stream",
     "text": [
      "49\n"
     ]
    }
   ],
   "source": [
    "print(convertBinaryToDecimal(\"00110001\"))"
   ]
  },
  {
   "cell_type": "code",
   "execution_count": 47,
   "id": "7fbae8f4",
   "metadata": {},
   "outputs": [],
   "source": [
    "def repair(min_value, max_value,x_value):\n",
    "    return max(min_value, min(max_value, x_value))\n",
    "\n",
    "# min 0\n",
    "# max 1000\n",
    "\n",
    "# num > 1000 2000\n",
    "# num < 0  -1000"
   ]
  },
  {
   "cell_type": "code",
   "execution_count": null,
   "id": "8b942b26",
   "metadata": {},
   "outputs": [],
   "source": [
    "# Create population  \n",
    "# Create Flower \n",
    "# Selection \n",
    "# Crossover\n",
    "# Mutation\n",
    "# Fitness Function\n",
    "# Main \n",
    "# GUI "
   ]
  },
  {
   "cell_type": "markdown",
   "id": "b6991f54",
   "metadata": {},
   "source": [
    "# Selection\n",
    "this is not crossover\n"
   ]
  },
  {
   "cell_type": "code",
   "execution_count": 48,
   "id": "c76da109",
   "metadata": {},
   "outputs": [
    {
     "name": "stdout",
     "output_type": "stream",
     "text": [
      "Parent 1:\n",
      "------------- Flower Details: -------------\n",
      "Center Size: 208\n",
      "Center Color: (228, 38, 207)\n",
      "Petals Color: (162, 146, 204)\n",
      "Stem Color: (15, 78, 45)\n",
      "Number of Petals: 1\n",
      "\n",
      "\n",
      "Parent 2:\n",
      "------------- Flower Details: -------------\n",
      "Center Size: 205\n",
      "Center Color: (176, 254, 16)\n",
      "Petals Color: (62, 226, 92)\n",
      "Stem Color: (21, 14, 14)\n",
      "Number of Petals: 4\n",
      "\n",
      "\n",
      "Parent 3:\n",
      "------------- Flower Details: -------------\n",
      "Center Size: 174\n",
      "Center Color: (159, 115, 118)\n",
      "Petals Color: (14, 45, 22)\n",
      "Stem Color: (189, 96, 183)\n",
      "Number of Petals: 3\n",
      "\n",
      "\n",
      "Parent 4:\n",
      "------------- Flower Details: -------------\n",
      "Center Size: 155\n",
      "Center Color: (38, 167, 54)\n",
      "Petals Color: (48, 16, 45)\n",
      "Stem Color: (21, 51, 98)\n",
      "Number of Petals: 7\n",
      "\n",
      "\n",
      "Parent 5:\n",
      "------------- Flower Details: -------------\n",
      "Center Size: 151\n",
      "Center Color: (229, 78, 60)\n",
      "Petals Color: (80, 112, 182)\n",
      "Stem Color: (214, 240, 218)\n",
      "Number of Petals: 5\n",
      "\n",
      "\n"
     ]
    }
   ],
   "source": [
    "def get_parents(flower):\n",
    "    sizeCenterBinary = convertDecimalToBinary(flower.sizeCenter)\n",
    "    colorCenterBinary = ''.join([convertDecimalToBinary(c) for c in flower.colorCenter])\n",
    "    colorPetalsBinary = ''.join([convertDecimalToBinary(c) for c in flower.colorPetals])\n",
    "    colorStemBinary = ''.join([convertDecimalToBinary(c) for c in flower.colorStem])\n",
    "    numPetalsBinary = convertDecimalToBinary(flower.numPetals)\n",
    "    \n",
    "    chromosome = sizeCenterBinary + colorCenterBinary + colorPetalsBinary + colorStemBinary + numPetalsBinary\n",
    "    return chromosome\n",
    "\n",
    "def selection(population):\n",
    "    fitness_values = []\n",
    "    for flower in population:\n",
    "        chromosome = get_parents(flower)\n",
    "        #fitness is based on time spent by mouse hovering on flower\n",
    "        fitness_value = convertBinaryToDecimal(chromosome)\n",
    "        fitness_values.append((fitness_value, flower))\n",
    "    \n",
    "    # Sort by fitness value in descending order\n",
    "    fitness_values.sort(reverse=True, key=lambda x: x[0])\n",
    "    \n",
    "    ## this is elitism, we want to make roulette which is that each the higher the fitness fn, the higher its probability is to be chosen.\n",
    "    ## i think we need to normalize the probabilities then get a random value from 0 to 1 generated and if it returns 0.4 we see which area this returns to.\n",
    "    # Select top 65% as parents\n",
    "    num_parents = int(len(population) * 0.65)\n",
    "    parents = [flower for _, flower in fitness_values[:num_parents]]\n",
    "    \n",
    "    return parents\n",
    "\n",
    "parents = selection(population)\n",
    "for i, parent in enumerate(parents):\n",
    "    print(f\"Parent {i+1}:\")\n",
    "    parent.display()\n",
    "    print(\"\\n\")\n"
   ]
  },
  {
   "cell_type": "markdown",
   "id": "8f5925b2",
   "metadata": {},
   "source": [
    "# Crossover\n"
   ]
  },
  {
   "cell_type": "code",
   "execution_count": 49,
   "id": "81f5b7ae",
   "metadata": {},
   "outputs": [
    {
     "name": "stdout",
     "output_type": "stream",
     "text": [
      "('011101101100', '100100000101')\n"
     ]
    }
   ],
   "source": [
    "def crossover( flower1, flower2):\n",
    "    crossPos = random.randint(1, len(flower1)-1)\n",
    "    # print(crossPos)\n",
    "\n",
    "    # Perform crossover\n",
    "    offspring1 = flower1[:crossPos] + flower2[crossPos:]\n",
    "    offspring2 = flower2[:crossPos] + flower1[crossPos:]\n",
    "    return offspring1, offspring2\n",
    "\n",
    "flower3 = \"011100000101\"\n",
    "flower4 = \"100101101100\"\n",
    "print(crossover(flower3,flower4))\n"
   ]
  },
  {
   "cell_type": "markdown",
   "id": "33a98e6a",
   "metadata": {},
   "source": [
    "# Mutation"
   ]
  },
  {
   "cell_type": "code",
   "execution_count": null,
   "id": "49733940",
   "metadata": {},
   "outputs": [
    {
     "name": "stdout",
     "output_type": "stream",
     "text": [
      "704\n",
      "Total bits: 704, Number of mutations to perform: 35\n",
      "\n",
      "Mutation 1: Flower 2\n",
      "Flower 2 mutated at position 83:\n",
      "Old Chromosome: 0110110101000010001000111110000011111111111100010111011110101100110001111011000100000111\n",
      "New Chromosome: 0110110101000010001000111110000011111111111100010111011110101100110001111011000100010111\n",
      "\n",
      "Mutation 2: Flower 2\n",
      "Flower 2 mutated at position 85:\n",
      "Old Chromosome: 0110110101000010001000111110000011111111111100010111011110101100110001111011000100000000\n",
      "New Chromosome: 0110110101000010001000111110000011111111111100010111011110101100110001111011000100000100\n",
      "\n",
      "Mutation 3: Flower 4\n",
      "Flower 4 mutated at position 33:\n",
      "Old Chromosome: 0011101001111101111011011111001110011011001100101101110110001010110100100101000100000110\n",
      "New Chromosome: 0011101001111101111011011111001111011011001100101101110110001010110100100101000100000110\n",
      "\n",
      "Mutation 4: Flower 1\n",
      "Flower 1 mutated at position 70:\n",
      "Old Chromosome: 1001101100100110101001110011011000110000000100000010110100010101001100110110001000000111\n",
      "New Chromosome: 1001101100100110101001110011011000110000000100000010110100010101001100010110001000000111\n",
      "\n",
      "Mutation 5: Flower 7\n",
      "Flower 7 mutated at position 61:\n",
      "Old Chromosome: 1001011111100101010011100011110001010000011100001011011011010110111100001101101000000101\n",
      "New Chromosome: 1001011111100101010011100011110001010000011100001011011011010010111100001101101000000101\n",
      "\n",
      "Mutation 6: Flower 1\n",
      "Flower 1 mutated at position 69:\n",
      "Old Chromosome: 1001101100100110101001110011011000110000000100000010110100010101001100010110001000000000\n",
      "New Chromosome: 1001101100100110101001110011011000110000000100000010110100010101001101010110001000000000\n",
      "\n",
      "Mutation 7: Flower 6\n",
      "Flower 6 mutated at position 7:\n",
      "Old Chromosome: 0011000000111011100100011000011111001101110100010011011110001100000110010011011100000101\n",
      "New Chromosome: 0011000100111011100100011000011111001101110100010011011110001100000110010011011100000101\n",
      "\n",
      "Mutation 8: Flower 4\n",
      "Flower 4 mutated at position 66:\n",
      "Old Chromosome: 0011101001111101111011011111001111011011001100101101110110001010110100100101000100000000\n",
      "New Chromosome: 0011101001111101111011011111001111011011001100101101110110001010111100100101000100000000\n",
      "\n",
      "Mutation 9: Flower 5\n",
      "Flower 5 mutated at position 49:\n",
      "Old Chromosome: 1101000011100100001001101100111110100010100100101100110000001111010011100010110100000001\n",
      "New Chromosome: 1101000011100100001001101100111110100010100100101000110000001111010011100010110100000001\n",
      "\n",
      "Mutation 10: Flower 6\n",
      "Flower 6 mutated at position 44:\n",
      "Old Chromosome: 0011000100111011100100011000011111001101110100010011011110001100000110010011011100000000\n",
      "New Chromosome: 0011000100111011100100011000011111001101110110010011011110001100000110010011011100000000\n",
      "\n",
      "Mutation 11: Flower 5\n",
      "Flower 5 mutated at position 79:\n",
      "Old Chromosome: 1101000011100100001001101100111110100010100100101000110000001111010011100010110100000000\n",
      "New Chromosome: 1101000011100100001001101100111110100010100100101000110000001111010011100010110000000000\n",
      "\n",
      "Mutation 12: Flower 3\n",
      "Flower 3 mutated at position 5:\n",
      "Old Chromosome: 1010111010011111011100110111011000001110001011010001011010111101011000001011011100000011\n",
      "New Chromosome: 1010101010011111011100110111011000001110001011010001011010111101011000001011011100000011\n",
      "\n",
      "Mutation 13: Flower 5\n",
      "Flower 5 mutated at position 23:\n",
      "Old Chromosome: 1101000011100100001001101100111110100010100100101000110000001111010011100010110000000000\n",
      "New Chromosome: 1101000011100100001001111100111110100010100100101000110000001111010011100010110000000000\n",
      "\n",
      "Mutation 14: Flower 4\n",
      "Flower 4 mutated at position 43:\n",
      "Old Chromosome: 0011101001111101111011011111001111011011001100101101110110001010111100100101000100000000\n",
      "New Chromosome: 0011101001111101111011011111001111011011001000101101110110001010111100100101000100000000\n",
      "\n",
      "Mutation 15: Flower 8\n",
      "Flower 8 mutated at position 45:\n",
      "Old Chromosome: 1100110110110000111111100001000000111110111000100101110000010101000011100000111000000100\n",
      "New Chromosome: 1100110110110000111111100001000000111110111001100101110000010101000011100000111000000100\n",
      "\n",
      "Mutation 16: Flower 1\n",
      "Flower 1 mutated at position 30:\n",
      "Old Chromosome: 1001101100100110101001110011011000110000000100000010110100010101001101010110001000000000\n",
      "New Chromosome: 1001101100100110101001110011010000110000000100000010110100010101001101010110001000000000\n",
      "\n",
      "Mutation 17: Flower 6\n",
      "Flower 6 mutated at position 87:\n",
      "Old Chromosome: 0011000100111011100100011000011111001101110110010011011110001100000110010011011100000000\n",
      "New Chromosome: 0011000100111011100100011000011111001101110110010011011110001100000110010011011100000001\n",
      "\n",
      "Mutation 18: Flower 6\n",
      "Flower 6 mutated at position 3:\n",
      "Old Chromosome: 0011000100111011100100011000011111001101110110010011011110001100000110010011011100000000\n",
      "New Chromosome: 0010000100111011100100011000011111001101110110010011011110001100000110010011011100000000\n",
      "\n",
      "Mutation 19: Flower 8\n",
      "Flower 8 mutated at position 41:\n",
      "Old Chromosome: 1100110110110000111111100001000000111110111001100101110000010101000011100000111000000000\n",
      "New Chromosome: 1100110110110000111111100001000000111110101001100101110000010101000011100000111000000000\n",
      "\n",
      "Mutation 20: Flower 3\n",
      "Flower 3 mutated at position 38:\n",
      "Old Chromosome: 1010101010011111011100110111011000001110001011010001011010111101011000001011011100000000\n",
      "New Chromosome: 1010101010011111011100110111011000001100001011010001011010111101011000001011011100000000\n",
      "\n",
      "Mutation 21: Flower 3\n",
      "Flower 3 mutated at position 46:\n",
      "Old Chromosome: 1010101010011111011100110111011000001100001011010001011010111101011000001011011100000000\n",
      "New Chromosome: 1010101010011111011100110111011000001100001011110001011010111101011000001011011100000000\n",
      "\n",
      "Mutation 22: Flower 4\n",
      "Flower 4 mutated at position 34:\n",
      "Old Chromosome: 0011101001111101111011011111001111011011001000101101110110001010111100100101000100000000\n",
      "New Chromosome: 0011101001111101111011011111001111111011001000101101110110001010111100100101000100000000\n",
      "\n",
      "Mutation 23: Flower 6\n",
      "Flower 6 mutated at position 7:\n",
      "Old Chromosome: 0010000100111011100100011000011111001101110110010011011110001100000110010011011100000000\n",
      "New Chromosome: 0010000000111011100100011000011111001101110110010011011110001100000110010011011100000000\n",
      "\n",
      "Mutation 24: Flower 7\n",
      "Flower 7 mutated at position 21:\n",
      "Old Chromosome: 1001011111100101010011100011110001010000011100001011011011010010111100001101101000000000\n",
      "New Chromosome: 1001011111100101010010100011110001010000011100001011011011010010111100001101101000000000\n",
      "\n",
      "Mutation 25: Flower 3\n",
      "Flower 3 mutated at position 11:\n",
      "Old Chromosome: 1010101010011111011100110111011000001100001011110001011010111101011000001011011100000000\n",
      "New Chromosome: 1010101010001111011100110111011000001100001011110001011010111101011000001011011100000000\n",
      "\n",
      "Mutation 26: Flower 8\n",
      "Flower 8 mutated at position 23:\n",
      "Old Chromosome: 1100110110110000111111100001000000111110101001100101110000010101000011100000111000000000\n",
      "New Chromosome: 1100110110110000111111110001000000111110101001100101110000010101000011100000111000000000\n",
      "\n",
      "Mutation 27: Flower 3\n",
      "Flower 3 mutated at position 5:\n",
      "Old Chromosome: 1010101010001111011100110111011000001100001011110001011010111101011000001011011100000000\n",
      "New Chromosome: 1010111010001111011100110111011000001100001011110001011010111101011000001011011100000000\n",
      "\n",
      "Mutation 28: Flower 3\n",
      "Flower 3 mutated at position 75:\n",
      "Old Chromosome: 1010111010001111011100110111011000001100001011110001011010111101011000001011011100000000\n",
      "New Chromosome: 1010111010001111011100110111011000001100001011110001011010111101011000001010011100000000\n",
      "\n",
      "Mutation 29: Flower 5\n",
      "Flower 5 mutated at position 64:\n",
      "Old Chromosome: 1101000011100100001001111100111110100010100100101000110000001111010011100010110000000000\n",
      "New Chromosome: 1101000011100100001001111100111110100010100100101000110000001111110011100010110000000000\n",
      "\n",
      "Mutation 30: Flower 5\n",
      "Flower 5 mutated at position 51:\n",
      "Old Chromosome: 1101000011100100001001111100111110100010100100101000110000001111110011100010110000000000\n",
      "New Chromosome: 1101000011100100001001111100111110100010100100101001110000001111110011100010110000000000\n",
      "\n",
      "Mutation 31: Flower 2\n",
      "Flower 2 mutated at position 84:\n",
      "Old Chromosome: 0110110101000010001000111110000011111111111100010111011110101100110001111011000100000000\n",
      "New Chromosome: 0110110101000010001000111110000011111111111100010111011110101100110001111011000100001000\n",
      "\n",
      "Mutation 32: Flower 3\n",
      "Flower 3 mutated at position 36:\n",
      "Old Chromosome: 1010111010001111011100110111011000001100001011110001011010111101011000001010011100000000\n",
      "New Chromosome: 1010111010001111011100110111011000000100001011110001011010111101011000001010011100000000\n",
      "\n",
      "Mutation 33: Flower 1\n",
      "Flower 1 mutated at position 46:\n",
      "Old Chromosome: 1001101100100110101001110011010000110000000100000010110100010101001101010110001000000000\n",
      "New Chromosome: 1001101100100110101001110011010000110000000100100010110100010101001101010110001000000000\n",
      "\n",
      "Mutation 34: Flower 8\n",
      "Flower 8 mutated at position 41:\n",
      "Old Chromosome: 1100110110110000111111110001000000111110101001100101110000010101000011100000111000000000\n",
      "New Chromosome: 1100110110110000111111110001000000111110111001100101110000010101000011100000111000000000\n",
      "\n",
      "Mutation 35: Flower 4\n",
      "Flower 4 mutated at position 62:\n",
      "Old Chromosome: 0011101001111101111011011111001111111011001000101101110110001010111100100101000100000000\n",
      "New Chromosome: 0011101001111101111011011111001111111011001000101101110110001000111100100101000100000000\n",
      "\n"
     ]
    }
   ],
   "source": [
    "def mutation(population):\n",
    "    chromosome = get_parents(population[0])\n",
    "    total_bits = len(chromosome) * len(population)\n",
    "    print(total_bits)\n",
    "    num_mutations = int(total_bits * 0.05)  # 5% of the total bits\n",
    "    i = 0\n",
    "    print(f\"Total bits: {total_bits}, Number of mutations to perform: {num_mutations}\\n\")  \n",
    "\n",
    "    for i in range(num_mutations):\n",
    "        flower_index = random.randint(0, len(population) - 1)\n",
    "        print(f\"Mutation {i + 1}: Flower {flower_index + 1}\")\n",
    "        flower = population[flower_index]\n",
    "        chromosome = get_parents(flower)\n",
    "        \n",
    "        mutation_pos = random.randint(0, len(chromosome) - 1)\n",
    "        if chromosome[mutation_pos] == '0':\n",
    "            mutated_bit = '1'\n",
    "        else:\n",
    "            mutated_bit = '0'\n",
    "        new_chromosome = chromosome[:mutation_pos] + mutated_bit + chromosome[mutation_pos + 1:]\n",
    "\n",
    "        print(f\"Flower {flower_index + 1} mutated at position {mutation_pos}:\")\n",
    "        print(f\"Old Chromosome: {chromosome}\")\n",
    "        print(f\"New Chromosome: {new_chromosome}\\n\")\n",
    "\n",
    "        # ------------------- My code ends here this is copilot suggestion -------------------\n",
    "\n",
    "        # Update flower attributes based on new chromosome\n",
    "        flower.sizeCenter = convertBinaryToDecimal(new_chromosome[0:8])\n",
    "        flower.colorCenter = (\n",
    "            convertBinaryToDecimal(new_chromosome[8:16]),\n",
    "            convertBinaryToDecimal(new_chromosome[16:24]),\n",
    "            convertBinaryToDecimal(new_chromosome[24:32])\n",
    "        )\n",
    "        flower.colorPetals = (\n",
    "            convertBinaryToDecimal(new_chromosome[32:40]),\n",
    "            convertBinaryToDecimal(new_chromosome[40:48]),\n",
    "            convertBinaryToDecimal(new_chromosome[48:56])\n",
    "        )\n",
    "        flower.colorStem = (\n",
    "            convertBinaryToDecimal(new_chromosome[56:64]),\n",
    "            convertBinaryToDecimal(new_chromosome[64:72]),\n",
    "            convertBinaryToDecimal(new_chromosome[72:80])\n",
    "        )\n",
    "        flower.numPetals = repair(0, 7, convertBinaryToDecimal(new_chromosome[80:83]))\n",
    "mutation(population)"
   ]
  },
  {
   "cell_type": "markdown",
   "id": "d898bcbd",
   "metadata": {},
   "source": [
    "# GUI"
   ]
  },
  {
   "cell_type": "code",
   "execution_count": 28,
   "id": "2c306a1f",
   "metadata": {},
   "outputs": [
    {
     "name": "stdout",
     "output_type": "stream",
     "text": [
      "* Running on local URL:  http://127.0.0.1:7860\n",
      "* To create a public link, set `share=True` in `launch()`.\n"
     ]
    },
    {
     "data": {
      "text/html": [
       "<div><iframe src=\"http://127.0.0.1:7860/\" width=\"100%\" height=\"500\" allow=\"autoplay; camera; microphone; clipboard-read; clipboard-write;\" frameborder=\"0\" allowfullscreen></iframe></div>"
      ],
      "text/plain": [
       "<IPython.core.display.HTML object>"
      ]
     },
     "metadata": {},
     "output_type": "display_data"
    },
    {
     "data": {
      "text/plain": []
     },
     "execution_count": 28,
     "metadata": {},
     "output_type": "execute_result"
    },
    {
     "name": "stdout",
     "output_type": "stream",
     "text": [
      "Created dataset file at: .gradio\\flagged\\dataset1.csv\n"
     ]
    }
   ],
   "source": [
    "def greet(name):\n",
    "    return f\"Hello {name}!\"\n",
    "\n",
    "app = gr.Interface(fn=greet, inputs=\"text\", outputs=\"text\")\n",
    "app.launch()\n"
   ]
  }
 ],
 "metadata": {
  "kernelspec": {
   "display_name": "Python 3",
   "language": "python",
   "name": "python3"
  },
  "language_info": {
   "codemirror_mode": {
    "name": "ipython",
    "version": 3
   },
   "file_extension": ".py",
   "mimetype": "text/x-python",
   "name": "python",
   "nbconvert_exporter": "python",
   "pygments_lexer": "ipython3",
   "version": "3.13.7"
  }
 },
 "nbformat": 4,
 "nbformat_minor": 5
}
