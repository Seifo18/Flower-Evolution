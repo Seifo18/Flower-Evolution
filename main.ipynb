{
 "cells": [
  {
   "cell_type": "markdown",
   "id": "2b6cf87e",
   "metadata": {},
   "source": [
    "# Imports\n"
   ]
  },
  {
   "cell_type": "code",
   "execution_count": 1,
   "id": "c0080614",
   "metadata": {},
   "outputs": [],
   "source": [
    "import random\n",
    "import gradio as gr\n"
   ]
  },
  {
   "cell_type": "markdown",
   "id": "65e968a5",
   "metadata": {},
   "source": [
    "# Flower\n",
    "\n"
   ]
  },
  {
   "cell_type": "code",
   "execution_count": 76,
   "id": "f07a0efc",
   "metadata": {},
   "outputs": [],
   "source": [
    "class Flower:\n",
    "    def __init__(self, sizeCenter , colorCenter , colorPetals , colorStem , numPetals): \n",
    "        self.sizeCenter = sizeCenter\n",
    "        self.colorCenter = colorCenter\n",
    "        self.colorPetals = colorPetals\n",
    "        self.colorStem = colorStem\n",
    "        self.numPetals = numPetals\n",
    "        \n",
    "    def display(self):\n",
    "        print(f\"------------- Flower Details: -------------\")\n",
    "        print(f\"Center Size: {self.sizeCenter}\")\n",
    "        print(f\"Center Color: {self.colorCenter}\")\n",
    "        print(f\"Petals Color: {self.colorPetals}\")\n",
    "        print(f\"Stem Color: {self.colorStem}\")\n",
    "        print(f\"Number of Petals: {self.numPetals}\")\n",
    "\n"
   ]
  },
  {
   "cell_type": "markdown",
   "id": "82dd3d20",
   "metadata": {},
   "source": [
    "# Population\n"
   ]
  },
  {
   "cell_type": "code",
   "execution_count": 77,
   "id": "7628904f",
   "metadata": {},
   "outputs": [
    {
     "name": "stdout",
     "output_type": "stream",
     "text": [
      "------------- Flower Details: -------------\n",
      "Center Size: 12\n",
      "Center Color: (121, 77, 52)\n",
      "Petals Color: (39, 13, 115)\n",
      "Stem Color: (123, 60, 129)\n",
      "Number of Petals: 5\n",
      "------------- Flower Details: -------------\n",
      "Center Size: 163\n",
      "Center Color: (202, 19, 247)\n",
      "Petals Color: (31, 130, 11)\n",
      "Stem Color: (88, 135, 9)\n",
      "Number of Petals: 2\n",
      "------------- Flower Details: -------------\n",
      "Center Size: 189\n",
      "Center Color: (26, 7, 136)\n",
      "Petals Color: (239, 254, 176)\n",
      "Stem Color: (171, 41, 7)\n",
      "Number of Petals: 2\n",
      "------------- Flower Details: -------------\n",
      "Center Size: 185\n",
      "Center Color: (114, 114, 34)\n",
      "Petals Color: (129, 93, 0)\n",
      "Stem Color: (195, 204, 12)\n",
      "Number of Petals: 0\n",
      "------------- Flower Details: -------------\n",
      "Center Size: 54\n",
      "Center Color: (236, 100, 134)\n",
      "Petals Color: (19, 237, 122)\n",
      "Stem Color: (123, 25, 129)\n",
      "Number of Petals: 0\n",
      "------------- Flower Details: -------------\n",
      "Center Size: 3\n",
      "Center Color: (64, 30, 143)\n",
      "Petals Color: (47, 227, 15)\n",
      "Stem Color: (190, 185, 244)\n",
      "Number of Petals: 6\n",
      "------------- Flower Details: -------------\n",
      "Center Size: 17\n",
      "Center Color: (29, 170, 91)\n",
      "Petals Color: (254, 99, 154)\n",
      "Stem Color: (30, 234, 91)\n",
      "Number of Petals: 7\n",
      "------------- Flower Details: -------------\n",
      "Center Size: 18\n",
      "Center Color: (215, 26, 85)\n",
      "Petals Color: (241, 141, 166)\n",
      "Stem Color: (54, 19, 41)\n",
      "Number of Petals: 1\n"
     ]
    }
   ],
   "source": [
    "# Assume sizeCenter is 8 bits \n",
    "# Assume numPetals is 8 bits\n",
    "# we may change the colorCenter, colorPetals, colorStem to be 24 bits each (8 bits for R, 8 bits for G, 8 bits for B)\n",
    "\n",
    "def createPopulation():\n",
    "    population = []  \n",
    "    for i in range(8):\n",
    "        sizeCenter = random.randint(0, 255)\n",
    "        colorCenter = (random.randint(0, 255), random.randint(0, 255), random.randint(0, 255))\n",
    "        colorPetals = (random.randint(0, 255), random.randint(0, 255), random.randint(0, 255))\n",
    "        colorStem = (random.randint(0, 255), random.randint(0, 255), random.randint(0, 255))\n",
    "        numPetals = random.randint(0, 7)\n",
    "        flower = Flower(sizeCenter, colorCenter, colorPetals, colorStem, numPetals)\n",
    "        population.append(flower)\n",
    "    return population\n",
    "\n",
    "population = createPopulation()\n",
    "population[0].display()\n",
    "population[1].display()\n",
    "population[2].display()\n",
    "population[3].display()\n",
    "population[4].display()\n",
    "population[5].display()\n",
    "population[6].display()\n",
    "population[7].display()"
   ]
  },
  {
   "cell_type": "code",
   "execution_count": 78,
   "id": "a17030d1",
   "metadata": {},
   "outputs": [
    {
     "name": "stdout",
     "output_type": "stream",
     "text": [
      "00000111\n"
     ]
    }
   ],
   "source": [
    "def convertDecimalToBinary(n):\n",
    "    return bin(n).replace(\"0b\", \"\").zfill(8)\n",
    "\n",
    "def convertDecimalToBinary3(n):\n",
    "    return bin(n).replace(\"0b\", \"\").zfill(3)\n",
    "\n",
    "print(convertDecimalToBinary(7))\n"
   ]
  },
  {
   "cell_type": "code",
   "execution_count": 79,
   "id": "edbe7939",
   "metadata": {},
   "outputs": [
    {
     "name": "stdout",
     "output_type": "stream",
     "text": [
      "------------- Flower Details: -------------\n",
      "Center Size: 12\n",
      "Center Color: (121, 77, 52)\n",
      "Petals Color: (39, 13, 115)\n",
      "Stem Color: (123, 60, 129)\n",
      "Number of Petals: 5\n",
      "Binary Representation:  00001100011110010100110100110100001001110000110101110011011110110011110010000001101\n",
      "\n",
      "------------- Flower Details: -------------\n",
      "Center Size: 163\n",
      "Center Color: (202, 19, 247)\n",
      "Petals Color: (31, 130, 11)\n",
      "Stem Color: (88, 135, 9)\n",
      "Number of Petals: 2\n",
      "Binary Representation:  10100011110010100001001111110111000111111000001000001011010110001000011100001001010\n",
      "\n",
      "------------- Flower Details: -------------\n",
      "Center Size: 189\n",
      "Center Color: (26, 7, 136)\n",
      "Petals Color: (239, 254, 176)\n",
      "Stem Color: (171, 41, 7)\n",
      "Number of Petals: 2\n",
      "Binary Representation:  10111101000110100000011110001000111011111111111010110000101010110010100100000111010\n",
      "\n",
      "------------- Flower Details: -------------\n",
      "Center Size: 185\n",
      "Center Color: (114, 114, 34)\n",
      "Petals Color: (129, 93, 0)\n",
      "Stem Color: (195, 204, 12)\n",
      "Number of Petals: 0\n",
      "Binary Representation:  10111001011100100111001000100010100000010101110100000000110000111100110000001100000\n",
      "\n",
      "------------- Flower Details: -------------\n",
      "Center Size: 54\n",
      "Center Color: (236, 100, 134)\n",
      "Petals Color: (19, 237, 122)\n",
      "Stem Color: (123, 25, 129)\n",
      "Number of Petals: 0\n",
      "Binary Representation:  00110110111011000110010010000110000100111110110101111010011110110001100110000001000\n",
      "\n",
      "------------- Flower Details: -------------\n",
      "Center Size: 3\n",
      "Center Color: (64, 30, 143)\n",
      "Petals Color: (47, 227, 15)\n",
      "Stem Color: (190, 185, 244)\n",
      "Number of Petals: 6\n",
      "Binary Representation:  00000011010000000001111010001111001011111110001100001111101111101011100111110100110\n",
      "\n",
      "------------- Flower Details: -------------\n",
      "Center Size: 17\n",
      "Center Color: (29, 170, 91)\n",
      "Petals Color: (254, 99, 154)\n",
      "Stem Color: (30, 234, 91)\n",
      "Number of Petals: 7\n",
      "Binary Representation:  00010001000111011010101001011011111111100110001110011010000111101110101001011011111\n",
      "\n",
      "------------- Flower Details: -------------\n",
      "Center Size: 18\n",
      "Center Color: (215, 26, 85)\n",
      "Petals Color: (241, 141, 166)\n",
      "Stem Color: (54, 19, 41)\n",
      "Number of Petals: 1\n",
      "Binary Representation:  00010010110101110001101001010101111100011000110110100110001101100001001100101001001\n",
      "\n",
      "Flower 1 Chromosome: 00001100011110010100110100110100001001110000110101110011011110110011110010000001101\n",
      "Flower 2 Chromosome: 10100011110010100001001111110111000111111000001000001011010110001000011100001001010\n",
      "Flower 3 Chromosome: 10111101000110100000011110001000111011111111111010110000101010110010100100000111010\n",
      "Flower 4 Chromosome: 10111001011100100111001000100010100000010101110100000000110000111100110000001100000\n",
      "Flower 5 Chromosome: 00110110111011000110010010000110000100111110110101111010011110110001100110000001000\n",
      "Flower 6 Chromosome: 00000011010000000001111010001111001011111110001100001111101111101011100111110100110\n",
      "Flower 7 Chromosome: 00010001000111011010101001011011111111100110001110011010000111101110101001011011111\n",
      "Flower 8 Chromosome: 00010010110101110001101001010101111100011000110110100110001101100001001100101001001\n"
     ]
    }
   ],
   "source": [
    "def displayBinaryRepresentation(flower):\n",
    "    sizeCenterBinary = convertDecimalToBinary(flower.sizeCenter)\n",
    "    colorCenterBinary = ''.join([convertDecimalToBinary(c) for c in flower.colorCenter])\n",
    "    colorPetalsBinary = ''.join([convertDecimalToBinary(c) for c in flower.colorPetals])\n",
    "    colorStemBinary = ''.join([convertDecimalToBinary(c) for c in flower.colorStem])\n",
    "    numPetalsBinary = convertDecimalToBinary3(flower.numPetals)\n",
    "    \n",
    "    chromosome = sizeCenterBinary + colorCenterBinary + colorPetalsBinary + colorStemBinary + numPetalsBinary\n",
    "    return chromosome\n",
    "\n",
    "def Chromosomes(population):\n",
    "    result = []\n",
    "    for i, flower in enumerate(population):\n",
    "        result.append(displayBinaryRepresentation(flower))\n",
    "    return result\n",
    "\n",
    "\n",
    "for flower in population:\n",
    "    flower.display()\n",
    "    print(\"Binary Representation: \", displayBinaryRepresentation(flower))\n",
    "    print()\n",
    "\n",
    "\n",
    "Chromosomes = Chromosomes(population)\n",
    "for i, chromosome in enumerate(Chromosomes):\n",
    "    print(f\"Flower {i+1} Chromosome: {chromosome}\")     "
   ]
  },
  {
   "cell_type": "code",
   "execution_count": 6,
   "id": "3b2fb366",
   "metadata": {},
   "outputs": [],
   "source": [
    "def convertBinaryToDecimal(chromosome):\n",
    "    decimal = 0\n",
    "    for i in range(len(chromosome)):\n",
    "        decimal += int(chromosome[i]) * (2 ** (len(chromosome) - 1 - i))\n",
    "    return decimal\n",
    "   "
   ]
  },
  {
   "cell_type": "code",
   "execution_count": 7,
   "id": "90eda17e",
   "metadata": {},
   "outputs": [
    {
     "name": "stdout",
     "output_type": "stream",
     "text": [
      "49\n"
     ]
    }
   ],
   "source": [
    "print(convertBinaryToDecimal(\"00110001\"))"
   ]
  },
  {
   "cell_type": "code",
   "execution_count": 8,
   "id": "7fbae8f4",
   "metadata": {},
   "outputs": [],
   "source": [
    "def repair(min_value, max_value,x_value):\n",
    "    return max(min_value, min(max_value, x_value))\n",
    "\n",
    "# min 0\n",
    "# max 1000\n",
    "\n",
    "# num > 1000 2000\n",
    "# num < 0  -1000"
   ]
  },
  {
   "cell_type": "code",
   "execution_count": 9,
   "id": "8b942b26",
   "metadata": {},
   "outputs": [],
   "source": [
    "# Create population  \n",
    "# Create Flower \n",
    "# Selection \n",
    "# Crossover\n",
    "# Mutation\n",
    "# Fitness Function\n",
    "# Main \n",
    "# GUI "
   ]
  },
  {
   "cell_type": "markdown",
   "id": "b6991f54",
   "metadata": {},
   "source": [
    "# Selection\n"
   ]
  },
  {
   "cell_type": "markdown",
   "id": "8f5925b2",
   "metadata": {},
   "source": [
    "# Crossover\n"
   ]
  },
  {
   "cell_type": "code",
   "execution_count": 11,
   "id": "81f5b7ae",
   "metadata": {},
   "outputs": [
    {
     "name": "stdout",
     "output_type": "stream",
     "text": [
      "('010101101100', '101100000101')\n"
     ]
    }
   ],
   "source": [
    "def crossover( flower1, flower2):\n",
    "    crossPos = random.randint(1, len(flower1)-1)\n",
    "    # print(crossPos)\n",
    "\n",
    "    # Perform crossover\n",
    "    offspring1 = flower1[:crossPos] + flower2[crossPos:]\n",
    "    offspring2 = flower2[:crossPos] + flower1[crossPos:]\n",
    "    return offspring1, offspring2\n",
    "\n",
    "flower3 = \"011100000101\"\n",
    "flower4 = \"100101101100\"\n",
    "print(crossover(flower3,flower4))\n"
   ]
  },
  {
   "cell_type": "markdown",
   "id": "33a98e6a",
   "metadata": {},
   "source": [
    "# Mutation"
   ]
  },
  {
   "cell_type": "code",
   "execution_count": 89,
   "id": "76f4d039",
   "metadata": {},
   "outputs": [],
   "source": [
    "def displayDecimalRepresentation(flower):\n",
    "    sizeCenterDecimal = convertBinaryToDecimal(flower[:8])\n",
    "    colorCenterDecimal = (convertBinaryToDecimal(flower[8:16]), convertBinaryToDecimal(flower[16:24]), convertBinaryToDecimal(flower[24:32]))\n",
    "    colorPetalsDecimal = (convertBinaryToDecimal(flower[32:40]), convertBinaryToDecimal(flower[40:48]), convertBinaryToDecimal(flower[48:56]))\n",
    "    colorStemDecimal = (convertBinaryToDecimal(flower[56:64]), convertBinaryToDecimal(flower[64:72]), convertBinaryToDecimal(flower[72:80]))\n",
    "    numPetalsDecimal = convertBinaryToDecimal(flower[80:83])\n",
    "    \n",
    "    return sizeCenterDecimal, colorCenterDecimal, colorPetalsDecimal, colorStemDecimal, numPetalsDecimal"
   ]
  },
  {
   "cell_type": "code",
   "execution_count": 96,
   "id": "49733940",
   "metadata": {},
   "outputs": [
    {
     "name": "stdout",
     "output_type": "stream",
     "text": [
      "Old chromosome flower  1 :  10011000101110011001110001110101001011000000111100101010011001001000110110001011101\n",
      "New chromosome flower  1 :  10011000101110011001110001110101001011000000111100101010111001001000110110001011001\n",
      "Mutations in flower:  2\n",
      "Old chromosome flower  2 :  11001000110000110101101011111110001110011000110100000111000100001100000011110001110\n",
      "New chromosome flower  2 :  11001000010000110101101011111110011100010011110000110111000100001100000011110001110\n",
      "Mutations in flower:  9\n",
      "Old chromosome flower  3 :  00011010000011000001000011100000101010101111110000101001110011110110101101111100010\n",
      "New chromosome flower  3 :  00011010000011000001001011101000101010101110110001111001110011110110101101111100010\n",
      "Mutations in flower:  5\n",
      "Old chromosome flower  4 :  10001001001110100111001000110010100110110001010101001101010000011100110101010101001\n",
      "New chromosome flower  4 :  10001001001110100111001000110000000110110001010101001111010000011100110111000101001\n",
      "Mutations in flower:  5\n",
      "Old chromosome flower  5 :  10010110011010111111010001101010000110011010010110111000101011011001011111110110110\n",
      "New chromosome flower  5 :  10010110011010111111010011100010000110011010010110111010101001011001011111110110110\n",
      "Mutations in flower:  4\n",
      "Old chromosome flower  6 :  01110000000110111011110011011101010011011011111101000011010110101011110101110100000\n",
      "New chromosome flower  6 :  00110000000110111011110011011101010011011111011101000001010100101011110101110100000\n",
      "Mutations in flower:  5\n",
      "Old chromosome flower  7 :  00011011010001010010001101100010011101110111100000110111010111111110110001101001101\n",
      "New chromosome flower  7 :  00011011010111010010001101100011011101110111100000110111110111111110110000101001101\n",
      "Mutations in flower:  5\n",
      "Old chromosome flower  8 :  11010010101011001000101011011011111011011010110100101100101110110101111110010100000\n",
      "New chromosome flower  8 :  11010010100010001001101011011011111011011010110110101100101110110101111111010100000\n",
      "Mutations in flower:  5\n",
      "Total mutations:  40\n"
     ]
    }
   ],
   "source": [
    "def mutation(population):\n",
    "    # i want for each bit to be mutated by 5%\n",
    "    mutation_rate = 0.05\n",
    "    i = 0\n",
    "    j = 0\n",
    "    k = 0\n",
    "    for flower in population:\n",
    "        k += 1\n",
    "        chromosome = displayBinaryRepresentation(flower)\n",
    "        new_chromosome = \"\"\n",
    "        for bit in chromosome:\n",
    "            if random.random() < mutation_rate:\n",
    "                i = i + 1\n",
    "                # Flip the bit\n",
    "                if bit == '0':\n",
    "                    new_bit = '1'\n",
    "                else:\n",
    "                    new_bit = '0'\n",
    "                new_chromosome += new_bit\n",
    "            else:\n",
    "                new_chromosome += bit\n",
    "        flower.chromosome = new_chromosome\n",
    "        print(\"Old chromosome flower \", k, \": \", chromosome)\n",
    "        print(\"New chromosome flower \", k, \": \", new_chromosome)\n",
    "        print(\"Mutations in flower: \", i-j)\n",
    "        j = i\n",
    "        # ------------------- My code ends here this is copilot suggestion -------------------\n",
    "\n",
    "        # Update flower attributes based on new chromosome\n",
    "        flower.sizeCenter = convertBinaryToDecimal(new_chromosome[0:8])\n",
    "        flower.colorCenter = (\n",
    "            convertBinaryToDecimal(new_chromosome[8:16]),\n",
    "            convertBinaryToDecimal(new_chromosome[16:24]),\n",
    "            convertBinaryToDecimal(new_chromosome[24:32])\n",
    "        )\n",
    "        flower.colorPetals = (\n",
    "            convertBinaryToDecimal(new_chromosome[32:40]),\n",
    "            convertBinaryToDecimal(new_chromosome[40:48]),\n",
    "            convertBinaryToDecimal(new_chromosome[48:56])\n",
    "        )\n",
    "        flower.colorStem = (\n",
    "            convertBinaryToDecimal(new_chromosome[56:64]),\n",
    "            convertBinaryToDecimal(new_chromosome[64:72]),\n",
    "            convertBinaryToDecimal(new_chromosome[72:80])\n",
    "        )\n",
    "        flower.numPetals = repair(0, 7, convertBinaryToDecimal(new_chromosome[80:83]))\n",
    "    print(\"Total mutations: \", i)\n",
    "mutation(population)"
   ]
  },
  {
   "cell_type": "markdown",
   "id": "d898bcbd",
   "metadata": {},
   "source": [
    "# GUI"
   ]
  },
  {
   "cell_type": "code",
   "execution_count": null,
   "id": "2c306a1f",
   "metadata": {},
   "outputs": [
    {
     "name": "stderr",
     "output_type": "stream",
     "text": [
      "c:\\Users\\melsa\\anaconda3\\Lib\\site-packages\\gradio\\utils.py:1052: UserWarning: Expected 1 arguments for function <function <lambda> at 0x000002541D444860>, received 0.\n",
      "  warnings.warn(\n",
      "c:\\Users\\melsa\\anaconda3\\Lib\\site-packages\\gradio\\utils.py:1056: UserWarning: Expected at least 1 arguments for function <function <lambda> at 0x000002541D444860>, received 0.\n",
      "  warnings.warn(\n"
     ]
    },
    {
     "name": "stdout",
     "output_type": "stream",
     "text": [
      "* Running on local URL:  http://127.0.0.1:7865\n",
      "* To create a public link, set `share=True` in `launch()`.\n"
     ]
    },
    {
     "data": {
      "text/html": [
       "<div><iframe src=\"http://127.0.0.1:7865/\" width=\"100%\" height=\"500\" allow=\"autoplay; camera; microphone; clipboard-read; clipboard-write;\" frameborder=\"0\" allowfullscreen></iframe></div>"
      ],
      "text/plain": [
       "<IPython.core.display.HTML object>"
      ]
     },
     "metadata": {},
     "output_type": "display_data"
    },
    {
     "data": {
      "text/plain": []
     },
     "execution_count": 67,
     "metadata": {},
     "output_type": "execute_result"
    }
   ],
   "source": [
    "def rgb_str(rgb):\n",
    "    return f\"rgb({rgb[0]}, {rgb[1]}, {rgb[2]})\"\n",
    "\n",
    "\n",
    "def flower_frame_html(index, flower: Flower):\n",
    "    return f\"\"\"\n",
    "    <div class=\"flower-frame\">\n",
    "      <canvas id=\"flowerCanvas{index}\" width=\"200\" height=\"200\"></canvas>\n",
    "      <div id=\"timer{index}\" class=\"timer\">Timer: 0</div>\n",
    "    </div>\n",
    "    <script>\n",
    "      (function() {{\n",
    "        const canvas = document.getElementById(\"flowerCanvas{index}\");\n",
    "        const ctx = canvas.getContext(\"2d\");\n",
    "        const timerDisplay = document.getElementById(\"timer{index}\");\n",
    "\n",
    "        const centerSize = {flower.sizeCenter / 20:.2f};\n",
    "        const centerColor = \"{rgb_str(flower.colorCenter)}\";\n",
    "        const petalColor = \"{rgb_str(flower.colorPetals)}\";\n",
    "        const stemColor = \"{rgb_str(flower.colorStem)}\";\n",
    "        const numPetals = {flower.numPetals};\n",
    "\n",
    "        function drawFlower() {{\n",
    "          const centerX = 100, centerY = 100;\n",
    "          const petalRadius = 15;\n",
    "          const flowerRadius = 40;\n",
    "\n",
    "          ctx.beginPath();\n",
    "          ctx.strokeStyle = stemColor;\n",
    "          ctx.lineWidth = 6;\n",
    "          ctx.moveTo(100, 200);\n",
    "          ctx.lineTo(100, 130);\n",
    "          ctx.stroke();\n",
    "\n",
    "          ctx.fillStyle = petalColor;\n",
    "          for (let i = 0; i < numPetals; i++) {{\n",
    "            const angle = (2 * Math.PI / numPetals) * i;\n",
    "            const x = centerX + flowerRadius * Math.cos(angle);\n",
    "            const y = centerY + flowerRadius * Math.sin(angle);\n",
    "            ctx.beginPath();\n",
    "            ctx.arc(x, y, petalRadius, 0, 2 * Math.PI);\n",
    "            ctx.fill();\n",
    "          }}\n",
    "\n",
    "          ctx.beginPath();\n",
    "          ctx.fillStyle = centerColor;\n",
    "          ctx.arc(centerX, centerY, centerSize, 0, 2 * Math.PI);\n",
    "          ctx.fill();\n",
    "        }}\n",
    "\n",
    "        drawFlower();\n",
    "\n",
    "        let time = 0;\n",
    "        let timerInterval = null;\n",
    "\n",
    "        function startTimer() {{\n",
    "          if (!timerInterval) {{\n",
    "            timerInterval = setInterval(() => {{\n",
    "              time += 1;\n",
    "              timerDisplay.textContent = \"Timer: \" + time;\n",
    "              window.flowerTimers[{index}] = time;\n",
    "            }}, 100);\n",
    "          }}\n",
    "        }}\n",
    "\n",
    "        function stopTimer() {{\n",
    "          clearInterval(timerInterval);\n",
    "          timerInterval = null;\n",
    "        }}\n",
    "\n",
    "        canvas.addEventListener(\"mouseenter\", startTimer);\n",
    "        canvas.addEventListener(\"mouseleave\", stopTimer);\n",
    "      }})();\n",
    "    </script>\n",
    "    \"\"\"\n",
    "\n",
    "\n",
    "def build_html(population):\n",
    "    html = \"\"\"\n",
    "    <!doctype html>\n",
    "    <html>\n",
    "    <head>\n",
    "      <meta charset=\"utf-8\" />\n",
    "      <style>\n",
    "        body {\n",
    "          font-family: Arial, sans-serif;\n",
    "          display: flex;\n",
    "          flex-wrap: wrap;\n",
    "          justify-content: center;\n",
    "          align-items: center;\n",
    "          gap: 20px;\n",
    "          padding: 20px;\n",
    "          margin: 0;\n",
    "        }\n",
    "        .flower-frame {\n",
    "          display: flex;\n",
    "          flex-direction: column;\n",
    "          align-items: center;\n",
    "          justify-content: center;\n",
    "          border: 2px solid #4CAF50;\n",
    "          border-radius: 10px;\n",
    "          background: #f9f9f9;\n",
    "          width: 220px;\n",
    "          height: 260px;\n",
    "          box-shadow: 0 0 5px rgba(0,0,0,0.1);\n",
    "          transition: box-shadow 0.3s ease;\n",
    "        }\n",
    "        .flower-frame:hover {\n",
    "          box-shadow: 0 0 15px rgba(76, 175, 80, 0.6);\n",
    "        }\n",
    "        canvas {\n",
    "          border-radius: 10px;\n",
    "          background: #f9f9f9;\n",
    "          cursor: pointer;\n",
    "        }\n",
    "        .timer {\n",
    "          margin-top: 8px;\n",
    "          font-size: 16px;\n",
    "          font-weight: bold;\n",
    "          color: #333;\n",
    "        }\n",
    "      </style>\n",
    "    </head>\n",
    "    <body>\n",
    "    <script>window.flowerTimers = new Array(8).fill(0);</script>\n",
    "    \"\"\"\n",
    "    for i, f in enumerate(population):\n",
    "        html += flower_frame_html(i, f)\n",
    "    html += \"</body></html>\"\n",
    "    return html\n",
    "\n",
    "\n",
    "# ---- Python-side logic ----\n",
    "def get_best_three(timers):\n",
    "    timers = [int(t) for t in timers]\n",
    "    sorted_indices = sorted(range(len(timers)), key=lambda i: timers[i], reverse=True)\n",
    "    top4 = sorted_indices[:4]\n",
    "\n",
    "    result = \"🏅 **Top 4 Flowers:**\\n\"\n",
    "    medals = [\"🥇\", \"🥈\", \"🥉\", \"🏅\"]\n",
    "    for rank, idx in enumerate(top4):\n",
    "        result += f\"{medals[rank]} Flower {idx+1} — Timer: {timers[idx]}\\n\"\n",
    "\n",
    "    return result\n",
    "\n",
    "\n",
    "# ---- Gradio UI ----\n",
    "with gr.Blocks(theme=\"default\") as demo:\n",
    "    gr.Markdown(\"## 🌸 Hover over each flower to increase its timer\")\n",
    "    iframe_html = f'<iframe id=\"flowerFrame\" srcdoc=\"{build_html(population).replace(chr(34), \"&quot;\")}\" style=\"width:100%; height:850px; border:none;\"></iframe>'\n",
    "    gr.HTML(value=iframe_html)\n",
    "\n",
    "    get_timers_btn = gr.Button(\"Show Top 3 Hovered Flowers\")\n",
    "    result_display = gr.Markdown(\"\")\n",
    "\n",
    "    get_timers_btn.click(\n",
    "        fn=lambda timers: get_best_three(timers),\n",
    "        js=\"window.flowerTimers\",\n",
    "        outputs=result_display,\n",
    "    )\n",
    "\n",
    "demo.launch()"
   ]
  }
 ],
 "metadata": {
  "kernelspec": {
   "display_name": "Python 3",
   "language": "python",
   "name": "python3"
  },
  "language_info": {
   "codemirror_mode": {
    "name": "ipython",
    "version": 3
   },
   "file_extension": ".py",
   "mimetype": "text/x-python",
   "name": "python",
   "nbconvert_exporter": "python",
   "pygments_lexer": "ipython3",
   "version": "3.11.9"
  }
 },
 "nbformat": 4,
 "nbformat_minor": 5
}
