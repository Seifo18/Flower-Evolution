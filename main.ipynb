{
 "cells": [
  {
   "cell_type": "code",
   "execution_count": null,
   "id": "7628904f",
   "metadata": {},
   "outputs": [],
   "source": [
    "def createPopulation():\n",
    "    population = []  \n",
    "    bits = [0 , 1]\n",
    "    for i in range(8):\n",
    "        chromosome = \"\" \n",
    "        for j in range(11) :\n",
    "            chromosome += str(bits[random.randint(0, 1)])\n",
    "        population.append(chromosome)\n",
    "    return population\n"
   ]
  },
  {
   "cell_type": "code",
   "execution_count": null,
   "id": "3b2fb366",
   "metadata": {},
   "outputs": [],
   "source": [
    "def convertBinaryToDecimal(chromosome):\n",
    "    decimal = 0\n",
    "    for i in range(len(chromosome)):\n",
    "        decimal += int(chromosome[i]) * (2 ** (len(chromosome) - 1 - i))\n",
    "    return decimal\n",
    "   "
   ]
  },
  {
   "cell_type": "code",
   "execution_count": 10,
   "id": "00cb7e02",
   "metadata": {},
   "outputs": [
    {
     "name": "stdout",
     "output_type": "stream",
     "text": [
      "['01011010011', '10000001010', '01101111000', '11101010110', '11011100100', '01001100110', '00111101100', '00011001110']\n"
     ]
    }
   ],
   "source": [
    "import random   \n",
    "firstPopulation = createPopulation()\n",
    "print(firstPopulation)\n"
   ]
  },
  {
   "cell_type": "code",
   "execution_count": 11,
   "id": "90eda17e",
   "metadata": {},
   "outputs": [
    {
     "name": "stdout",
     "output_type": "stream",
     "text": [
      "723\n"
     ]
    }
   ],
   "source": [
    "print(convertBinaryToDecimal(firstPopulation[0]))"
   ]
  }
 ],
 "metadata": {
  "kernelspec": {
   "display_name": "Python 3",
   "language": "python",
   "name": "python3"
  },
  "language_info": {
   "codemirror_mode": {
    "name": "ipython",
    "version": 3
   },
   "file_extension": ".py",
   "mimetype": "text/x-python",
   "name": "python",
   "nbconvert_exporter": "python",
   "pygments_lexer": "ipython3",
   "version": "3.11.9"
  }
 },
 "nbformat": 4,
 "nbformat_minor": 5
}
